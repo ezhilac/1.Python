{
 "cells": [
  {
   "cell_type": "code",
   "execution_count": 6,
   "id": "4ab9d6f3-4929-4fc4-88e2-188fe2a9269a",
   "metadata": {},
   "outputs": [],
   "source": [
    "#if\n",
    "if():\n",
    "    print()\n",
    "    "
   ]
  },
  {
   "cell_type": "code",
   "execution_count": 10,
   "id": "794d5747-bf11-4bea-b68a-4a1d36ca5730",
   "metadata": {},
   "outputs": [
    {
     "name": "stdin",
     "output_type": "stream",
     "text": [
      "enter the number: 18\n"
     ]
    },
    {
     "name": "stdout",
     "output_type": "stream",
     "text": [
      "ADULT\n"
     ]
    }
   ],
   "source": [
    "age=int(input(\"enter the number:\"))\n",
    "if(age==18):\n",
    "    print(\"ADULT\")"
   ]
  },
  {
   "cell_type": "code",
   "execution_count": 22,
   "id": "48654450-2c97-4899-bc51-ffed4762aa59",
   "metadata": {},
   "outputs": [
    {
     "name": "stdin",
     "output_type": "stream",
     "text": [
      "enter the input 45\n"
     ]
    }
   ],
   "source": [
    "age=int(input(\"enter the input\"))"
   ]
  },
  {
   "cell_type": "code",
   "execution_count": 24,
   "id": "3e3a7325-d1ff-49fd-9fab-c4da9c03c1e3",
   "metadata": {},
   "outputs": [
    {
     "name": "stdout",
     "output_type": "stream",
     "text": [
      "Citizen\n"
     ]
    }
   ],
   "source": [
    "if(age<18):\n",
    "    print(\"Children\")\n",
    "elif(age<35):\n",
    "    print(\"adult\")\n",
    "elif(age<59):\n",
    "    print(\"Citizen\")\n",
    "else:\n",
    "    print(\"Senior citizen\")\n",
    "    "
   ]
  },
  {
   "cell_type": "code",
   "execution_count": 29,
   "id": "d3cb54b6-6a0d-48fc-80fb-b31a59e44abd",
   "metadata": {},
   "outputs": [
    {
     "name": "stdout",
     "output_type": "stream",
     "text": [
      "23\n",
      "45\n",
      "59\n",
      "60\n",
      "adult\n",
      "Citizen\n",
      "Senior citizen\n",
      "Senior citizen\n"
     ]
    }
   ],
   "source": [
    "lists=[23,45,59,60]\n",
    "for temp in lists:\n",
    "    print(temp)\n",
    "\n",
    "for age in lists:\n",
    "    if(age<18):\n",
    "        print(\"Children\")\n",
    "    elif(age<35):\n",
    "        print(\"adult\")\n",
    "    elif(age<59):\n",
    "        print(\"Citizen\")\n",
    "    else:\n",
    "        print(\"Senior citizen\")\n",
    "    "
   ]
  },
  {
   "cell_type": "code",
   "execution_count": null,
   "id": "e5e1deae-afc8-49b4-a19f-ce5188c33389",
   "metadata": {},
   "outputs": [],
   "source": []
  }
 ],
 "metadata": {
  "kernelspec": {
   "display_name": "Python [conda env:base] *",
   "language": "python",
   "name": "conda-base-py"
  },
  "language_info": {
   "codemirror_mode": {
    "name": "ipython",
    "version": 3
   },
   "file_extension": ".py",
   "mimetype": "text/x-python",
   "name": "python",
   "nbconvert_exporter": "python",
   "pygments_lexer": "ipython3",
   "version": "3.13.5"
  }
 },
 "nbformat": 4,
 "nbformat_minor": 5
}
