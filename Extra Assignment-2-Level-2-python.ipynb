{
 "cells": [
  {
   "cell_type": "code",
   "execution_count": 1,
   "id": "6f7d2def-73c2-4721-8650-a1d92718a1c7",
   "metadata": {},
   "outputs": [
    {
     "data": {
      "text/plain": [
       "range(0, 20)"
      ]
     },
     "execution_count": 1,
     "metadata": {},
     "output_type": "execute_result"
    }
   ],
   "source": [
    "range (0,20)"
   ]
  },
  {
   "cell_type": "code",
   "execution_count": 2,
   "id": "526b2c22-6ef9-43a6-bf63-99bfd74606b6",
   "metadata": {},
   "outputs": [
    {
     "name": "stdout",
     "output_type": "stream",
     "text": [
      "0\n",
      "1\n",
      "2\n",
      "3\n",
      "4\n",
      "5\n",
      "6\n",
      "7\n",
      "8\n",
      "9\n",
      "10\n",
      "11\n",
      "12\n",
      "13\n",
      "14\n",
      "15\n",
      "16\n",
      "17\n",
      "18\n",
      "19\n"
     ]
    }
   ],
   "source": [
    "for num in range(0,20):\n",
    "    print(num)"
   ]
  },
  {
   "cell_type": "code",
   "execution_count": 3,
   "id": "36f10ce8-481b-4c3a-bc65-b32234471f58",
   "metadata": {},
   "outputs": [
    {
     "name": "stdout",
     "output_type": "stream",
     "text": [
      "19 "
     ]
    }
   ],
   "source": [
    "    print(num, end=\" \")"
   ]
  },
  {
   "cell_type": "code",
   "execution_count": 4,
   "id": "63e84cf9-8c1c-49ae-9b1a-562423b1d38b",
   "metadata": {},
   "outputs": [
    {
     "name": "stdout",
     "output_type": "stream",
     "text": [
      "0 1 2 3 4 5 6 7 8 9 10 11 12 13 14 15 16 17 18 19 "
     ]
    }
   ],
   "source": [
    "for num in range(0,20):\n",
    "    print(num, end=\" \")"
   ]
  },
  {
   "cell_type": "code",
   "execution_count": 5,
   "id": "ed79b12e-0ddb-4c81-a35c-d675c4cd1da8",
   "metadata": {},
   "outputs": [
    {
     "name": "stdout",
     "output_type": "stream",
     "text": [
      "[10, 20, 14, 55, 43, 87, 76]\n"
     ]
    }
   ],
   "source": [
    "List2 =[10, 20, 14, 55, 43, 87, 76]\n",
    "print (List2)"
   ]
  },
  {
   "cell_type": "code",
   "execution_count": 6,
   "id": "f6633856-be4e-4cf1-ad17-510a4c261194",
   "metadata": {},
   "outputs": [
    {
     "name": "stdout",
     "output_type": "stream",
     "text": [
      "Number of Item in the List2: 7\n"
     ]
    }
   ],
   "source": [
    "print(\"Number of Item in the List2:\", len(List2))"
   ]
  },
  {
   "cell_type": "code",
   "execution_count": 7,
   "id": "031887cb-9768-418a-9426-242ff920e32b",
   "metadata": {},
   "outputs": [
    {
     "name": "stdout",
     "output_type": "stream",
     "text": [
      "A\n",
      "r\n",
      "t\n",
      "i\n",
      "f\n",
      "i\n",
      "c\n",
      "i\n",
      "a\n",
      "l\n",
      " \n",
      "I\n",
      "n\n",
      "t\n",
      "e\n",
      "l\n",
      "l\n",
      "i\n",
      "g\n",
      "e\n",
      "n\n",
      "c\n",
      "e\n"
     ]
    }
   ],
   "source": [
    "text = \"Artificial Intelligence\"\n",
    "for i in text:\n",
    "    print(i)"
   ]
  },
  {
   "cell_type": "code",
   "execution_count": 9,
   "id": "6dc30f95-7f00-4417-9a88-d3abbab714d5",
   "metadata": {},
   "outputs": [
    {
     "name": "stdout",
     "output_type": "stream",
     "text": [
      "-Your Name-\n",
      "-Your Age-\n",
      "-Your Profession-\n"
     ]
    }
   ],
   "source": [
    "print(\"-Your Name-\")\n",
    "print(\"-Your Age-\")\n",
    "print(\"-Your Profession-\")"
   ]
  },
  {
   "cell_type": "code",
   "execution_count": 10,
   "id": "a5c06568-bcf6-4e1e-9d72-6d455ecc5efc",
   "metadata": {},
   "outputs": [
    {
     "name": "stdout",
     "output_type": "stream",
     "text": [
      "(1, 'Welcome', 2, 'Hope')\n"
     ]
    }
   ],
   "source": [
    "tup = (1, 'Welcome', 2, 'Hope')\n",
    "print(tup)"
   ]
  },
  {
   "cell_type": "code",
   "execution_count": 11,
   "id": "5d4d7c53-8aec-427c-b3ab-cbf2a4745404",
   "metadata": {},
   "outputs": [
    {
     "name": "stdout",
     "output_type": "stream",
     "text": [
      "((0, 1, 2, 3), ('Python', 'Hope'))\n"
     ]
    }
   ],
   "source": [
    "Tuple1 =(0,1,2,3) \n",
    "Tuple2 = ('Python', 'Hope')\n",
    "Tuple3 = (Tuple1, Tuple2)\n",
    "print(Tuple3)"
   ]
  },
  {
   "cell_type": "code",
   "execution_count": 18,
   "id": "f13ae6a9-fbc0-41f2-a95f-6e64d3cb7daf",
   "metadata": {},
   "outputs": [
    {
     "name": "stdout",
     "output_type": "stream",
     "text": [
      "19 is odd number\n",
      "25 is odd number\n",
      "1 is odd number\n"
     ]
    }
   ],
   "source": [
    "list1 = [20,10,16,19,25,1,276,188]\n",
    "\n",
    "for i in list1:    \n",
    "    if i%2 != 0:\n",
    "        print(i, \"is odd \")"
   ]
  },
  {
   "cell_type": "code",
   "execution_count": 19,
   "id": "a2666a9a-7235-46b7-b651-ca89e00a7ffd",
   "metadata": {},
   "outputs": [
    {
     "name": "stdout",
     "output_type": "stream",
     "text": [
      "20 is even \n",
      "10 is even \n",
      "16 is even \n",
      "276 is even \n",
      "188 is even \n"
     ]
    }
   ],
   "source": [
    "list1 = [20,10,16,19,25,1,276,188]\n",
    "\n",
    "for i in list1:    \n",
    "    if i%2 == 0:\n",
    "        print(i, \"is even \")"
   ]
  },
  {
   "cell_type": "code",
   "execution_count": null,
   "id": "7a23b464-65f7-4ab3-967a-009ff057a74a",
   "metadata": {},
   "outputs": [],
   "source": []
  }
 ],
 "metadata": {
  "kernelspec": {
   "display_name": "Python [conda env:base] *",
   "language": "python",
   "name": "conda-base-py"
  },
  "language_info": {
   "codemirror_mode": {
    "name": "ipython",
    "version": 3
   },
   "file_extension": ".py",
   "mimetype": "text/x-python",
   "name": "python",
   "nbconvert_exporter": "python",
   "pygments_lexer": "ipython3",
   "version": "3.13.5"
  }
 },
 "nbformat": 4,
 "nbformat_minor": 5
}
