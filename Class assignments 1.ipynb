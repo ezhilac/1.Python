{
 "cells": [
  {
   "cell_type": "code",
   "execution_count": 14,
   "id": "4cbb0f2c-c2d3-4954-963e-f19676ab22dc",
   "metadata": {},
   "outputs": [],
   "source": [
    "class SubfieldInAI:\n",
    "    def subfields(self):\n",
    "        fields = [\n",
    "            \"Machine Learning\",\n",
    "            \"Neural Networks\",\n",
    "            \"Vision\",\n",
    "            \"Robotics\",\n",
    "            \"Speech Processing\",\n",
    "            \"Natural Language Processing\"\n",
    "        ]\n",
    "        print(\"Sub-fields in AI are:\")\n",
    "        for field in fields:\n",
    "            print(field)\n",
    "\n",
    "\n",
    "SunfieldInAI = SubfieldInAI()\n",
    "\n"
   ]
  },
  {
   "cell_type": "code",
   "execution_count": 15,
   "id": "2f4c82af-6e45-42b8-9167-8c685518fca5",
   "metadata": {},
   "outputs": [
    {
     "name": "stdout",
     "output_type": "stream",
     "text": [
      "Sub-fields in AI are:\n",
      "Machine Learning\n",
      "Neural Networks\n",
      "Vision\n",
      "Robotics\n",
      "Speech Processing\n",
      "Natural Language Processing\n"
     ]
    }
   ],
   "source": [
    "SunfieldInAI.subfields()"
   ]
  },
  {
   "cell_type": "code",
   "execution_count": 18,
   "id": "bfe3889f-4ea8-4952-80b3-e96e1e1b2280",
   "metadata": {},
   "outputs": [],
   "source": [
    "class OddEven:\n",
    "    @staticmethod\n",
    "    def OddEven():\n",
    "        num = int(input(\"Enter a number: \"))\n",
    "        if num % 2 == 0:\n",
    "            print(f\"{num} is Even number\")\n",
    "        else:\n",
    "            print(f\"{num} is Odd number\")\n"
   ]
  },
  {
   "cell_type": "code",
   "execution_count": 19,
   "id": "b2d9e169-d74f-4391-be4f-f19809a32a6f",
   "metadata": {},
   "outputs": [
    {
     "name": "stdin",
     "output_type": "stream",
     "text": [
      "Enter a number:  65\n"
     ]
    },
    {
     "name": "stdout",
     "output_type": "stream",
     "text": [
      "65 is Odd number\n"
     ]
    }
   ],
   "source": [
    "\n",
    "OddEven.OddEven()"
   ]
  },
  {
   "cell_type": "code",
   "execution_count": 20,
   "id": "aa74f7f2-06d1-49d7-9e55-8afbb328d95f",
   "metadata": {},
   "outputs": [],
   "source": [
    "class EligibilityForMarriage:\n",
    "    @staticmethod\n",
    "    def Eligible():\n",
    "        gender = input(\"Your Gender:\")\n",
    "        age = int(input(\"Your Age:\"))\n",
    "\n",
    "        if (gender.lower() == \"male\" and age >= 21) or (gender.lower() == \"female\" and age >= 18):\n",
    "            print(\"ELIGIBLE\")\n",
    "        else:\n",
    "            print(\"NOT ELIGIBLE\")"
   ]
  },
  {
   "cell_type": "code",
   "execution_count": 22,
   "id": "7075ec98-0f26-4f37-a61e-b250d7602a92",
   "metadata": {},
   "outputs": [
    {
     "name": "stdin",
     "output_type": "stream",
     "text": [
      "Your Gender: female\n",
      "Your Age: 35\n"
     ]
    },
    {
     "name": "stdout",
     "output_type": "stream",
     "text": [
      "ELIGIBLE\n"
     ]
    }
   ],
   "source": [
    "EligibilityForMarriage.Eligible()"
   ]
  },
  {
   "cell_type": "code",
   "execution_count": 23,
   "id": "a2a0c87f-189a-4a54-b54e-dbeeed40ccb2",
   "metadata": {},
   "outputs": [],
   "source": [
    "class FindPercent:\n",
    "    @staticmethod\n",
    "    def percentage():\n",
    "        total_marks = int(input(\"Enter your total marks: \"))\n",
    "        obtained_marks = int(input(\"Enter your obtained marks: \"))\n",
    "\n",
    "        percent = (obtained_marks / total_marks) * 100\n",
    "        print(f\"Percentage : {percent}\")"
   ]
  },
  {
   "cell_type": "code",
   "execution_count": 24,
   "id": "e971ee4c-b2a2-4e93-8720-0c0bf0d22b7d",
   "metadata": {},
   "outputs": [
    {
     "name": "stdin",
     "output_type": "stream",
     "text": [
      "Enter your total marks:  468\n",
      "Enter your obtained marks:  468\n"
     ]
    },
    {
     "name": "stdout",
     "output_type": "stream",
     "text": [
      "Percentage : 100.0\n"
     ]
    }
   ],
   "source": [
    "FindPercent.percentage()"
   ]
  },
  {
   "cell_type": "code",
   "execution_count": 25,
   "id": "d03e4efa-fe37-4711-b250-afb8165da7a6",
   "metadata": {},
   "outputs": [],
   "source": [
    "class Triangle:\n",
    "    @staticmethod\n",
    "    def triangle():\n",
    "        # Area of triangle\n",
    "        height = float(input(\"Height: \"))\n",
    "        breadth = float(input(\"Breadth: \"))\n",
    "        print(\"Area formula: (Height*Breadth)/2\")\n",
    "        area = (height * breadth) / 2\n",
    "        print(\"Area of Triangle:\", area)\n",
    "\n",
    "        # Perimeter of triangle\n",
    "        height1 = float(input(\"Height1: \"))\n",
    "        height2 = float(input(\"Height2: \"))\n",
    "        breadth_side = float(input(\"Breadth: \"))\n",
    "        print(\"Perimeter formula: Height1+Height2+Breadth\")\n",
    "        perimeter = height1 + height2 + breadth_side\n",
    "        print(\"Perimeter of Triangle:\", perimeter)\n",
    "\n",
    "triangle = Triangle()\n"
   ]
  },
  {
   "cell_type": "code",
   "execution_count": 26,
   "id": "8c21804b-a610-4d91-b0fc-2e58286f3b0e",
   "metadata": {},
   "outputs": [
    {
     "name": "stdin",
     "output_type": "stream",
     "text": [
      "Height:  32\n",
      "Breadth:  34\n"
     ]
    },
    {
     "name": "stdout",
     "output_type": "stream",
     "text": [
      "Area formula: (Height*Breadth)/2\n",
      "Area of Triangle: 544.0\n"
     ]
    },
    {
     "name": "stdin",
     "output_type": "stream",
     "text": [
      "Height1:  2\n",
      "Height2:  4\n",
      "Breadth:  4\n"
     ]
    },
    {
     "name": "stdout",
     "output_type": "stream",
     "text": [
      "Perimeter formula: Height1+Height2+Breadth\n",
      "Perimeter of Triangle: 10.0\n"
     ]
    }
   ],
   "source": [
    "triangle.triangle()"
   ]
  },
  {
   "cell_type": "code",
   "execution_count": null,
   "id": "a99c161e-80a9-47e8-9fb4-4079e54a1265",
   "metadata": {},
   "outputs": [],
   "source": []
  }
 ],
 "metadata": {
  "kernelspec": {
   "display_name": "Python [conda env:base] *",
   "language": "python",
   "name": "conda-base-py"
  },
  "language_info": {
   "codemirror_mode": {
    "name": "ipython",
    "version": 3
   },
   "file_extension": ".py",
   "mimetype": "text/x-python",
   "name": "python",
   "nbconvert_exporter": "python",
   "pygments_lexer": "ipython3",
   "version": "3.13.5"
  }
 },
 "nbformat": 4,
 "nbformat_minor": 5
}
