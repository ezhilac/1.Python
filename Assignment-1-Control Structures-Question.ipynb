{
 "cells": [
  {
   "cell_type": "code",
   "execution_count": 1,
   "id": "b337effe-4fda-4c3d-a1ed-0cba3771ae2d",
   "metadata": {},
   "outputs": [
    {
     "name": "stdout",
     "output_type": "stream",
     "text": [
      "Welcome to Assignment-1\n"
     ]
    }
   ],
   "source": [
    "print(\"Welcome to Assignment-1\")"
   ]
  },
  {
   "cell_type": "code",
   "execution_count": 2,
   "id": "7efe22ba-74a7-40fa-ad3f-9d921c4bd4ab",
   "metadata": {},
   "outputs": [],
   "source": [
    "Num1=10\n",
    "Num2=20\n",
    "add=Num1+Num2\n"
   ]
  },
  {
   "cell_type": "code",
   "execution_count": 3,
   "id": "a77a9959-cb4f-49fe-879d-aaf9380d348e",
   "metadata": {},
   "outputs": [
    {
     "name": "stdout",
     "output_type": "stream",
     "text": [
      "Num1= 10\n",
      "Num2= 20\n",
      "Add= 30\n"
     ]
    }
   ],
   "source": [
    "print(\"Num1=\", Num1)\n",
    "print(\"Num2=\", Num2)\n",
    "print(\"Add=\", add)"
   ]
  },
  {
   "cell_type": "code",
   "execution_count": 5,
   "id": "e0ae6d81-bd37-40e9-9ae7-7ede66c8e924",
   "metadata": {},
   "outputs": [
    {
     "name": "stdin",
     "output_type": "stream",
     "text": [
      "Enter the BMI Index: 34\n"
     ]
    },
    {
     "name": "stdout",
     "output_type": "stream",
     "text": [
      "Very Overweight\n"
     ]
    }
   ],
   "source": [
    "BMI=int(input(\"Enter the BMI Index:\"))\n",
    "if(BMI<18.5):\n",
    "    print(\"Underweight\")\n",
    "elif(BMI<24.9):\n",
    "    print(\"Optimum range\")\n",
    "elif(BMI<29.9):\n",
    "    print(\"Overweight\")\n",
    "elif(BMI<34.9):\n",
    "    print(\"Very Overweight\")\n",
    "else:\n",
    "    print(\"Obesity\")\n",
    "    "
   ]
  },
  {
   "cell_type": "code",
   "execution_count": null,
   "id": "b084366c-a256-4574-b0aa-ee10325088f5",
   "metadata": {},
   "outputs": [],
   "source": []
  }
 ],
 "metadata": {
  "kernelspec": {
   "display_name": "Python [conda env:base] *",
   "language": "python",
   "name": "conda-base-py"
  },
  "language_info": {
   "codemirror_mode": {
    "name": "ipython",
    "version": 3
   },
   "file_extension": ".py",
   "mimetype": "text/x-python",
   "name": "python",
   "nbconvert_exporter": "python",
   "pygments_lexer": "ipython3",
   "version": "3.13.5"
  }
 },
 "nbformat": 4,
 "nbformat_minor": 5
}
