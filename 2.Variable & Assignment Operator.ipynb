{
 "cells": [
  {
   "cell_type": "code",
   "execution_count": 3,
   "id": "68ad61e0-b7f4-4b00-b06f-f30e41b012f7",
   "metadata": {},
   "outputs": [],
   "source": [
    "num1=10\n",
    "num2=30\n",
    "add=num1+num2"
   ]
  },
  {
   "cell_type": "code",
   "execution_count": 4,
   "id": "1d9f2091-3169-4506-960a-4e27ac25db9b",
   "metadata": {},
   "outputs": [
    {
     "name": "stdout",
     "output_type": "stream",
     "text": [
      "add\n"
     ]
    }
   ],
   "source": [
    "num1=10\n",
    "num2=30\n",
    "add=num1+num2\n",
    "print(\"add\")"
   ]
  },
  {
   "cell_type": "code",
   "execution_count": 5,
   "id": "ce107f3b-883c-4812-8231-e0a88fb5bbf5",
   "metadata": {},
   "outputs": [
    {
     "name": "stdout",
     "output_type": "stream",
     "text": [
      "add\n",
      "40\n"
     ]
    }
   ],
   "source": [
    "num1=10\n",
    "num2=30\n",
    "add=num1+num2\n",
    "print(\"add\")\n",
    "print(add)"
   ]
  },
  {
   "cell_type": "code",
   "execution_count": 9,
   "id": "9b4d55a0-94cf-48c4-80de-80136abfd8de",
   "metadata": {},
   "outputs": [
    {
     "name": "stdout",
     "output_type": "stream",
     "text": [
      "The Addition of Two Numbers\n",
      "The number1 is 10\n",
      "The number2 is 20\n",
      "The Answer is 30\n"
     ]
    }
   ],
   "source": [
    "number1=10\n",
    "number2=20\n",
    "add=number1+number2\n",
    "print(\"The Addition of Two Numbers\")\n",
    "print(\"The number1 is\", number1)\n",
    "print(\"The number2 is\", number2)\n",
    "print(\"The Answer is\", add)"
   ]
  },
  {
   "cell_type": "code",
   "execution_count": 14,
   "id": "38e61c65-4926-42f5-8bf8-6ed5d5e3632e",
   "metadata": {},
   "outputs": [
    {
     "name": "stdin",
     "output_type": "stream",
     "text": [
      "enter the number 30\n"
     ]
    }
   ],
   "source": [
    "num1= int(input(\"enter the number\"))"
   ]
  },
  {
   "cell_type": "code",
   "execution_count": 15,
   "id": "8927cca5-f6e0-4514-a4b9-40bd2dcfc9a3",
   "metadata": {},
   "outputs": [
    {
     "name": "stdin",
     "output_type": "stream",
     "text": [
      "enter the number 50\n"
     ]
    }
   ],
   "source": [
    "num2=int(input(\"enter the number\"))\n"
   ]
  },
  {
   "cell_type": "code",
   "execution_count": 16,
   "id": "cf9e6c6f-8b84-48f4-adb0-3a0dcd11755e",
   "metadata": {},
   "outputs": [],
   "source": [
    "add = num1+num2"
   ]
  },
  {
   "cell_type": "code",
   "execution_count": 17,
   "id": "043adb5a-6c55-400e-9984-1bf5dbfd0662",
   "metadata": {},
   "outputs": [
    {
     "name": "stdout",
     "output_type": "stream",
     "text": [
      "80\n"
     ]
    }
   ],
   "source": [
    "print(add)\n"
   ]
  },
  {
   "cell_type": "code",
   "execution_count": null,
   "id": "ff6535d8-6c36-4cc7-a0c4-e29577cee009",
   "metadata": {},
   "outputs": [],
   "source": []
  }
 ],
 "metadata": {
  "kernelspec": {
   "display_name": "Python [conda env:base] *",
   "language": "python",
   "name": "conda-base-py"
  },
  "language_info": {
   "codemirror_mode": {
    "name": "ipython",
    "version": 3
   },
   "file_extension": ".py",
   "mimetype": "text/x-python",
   "name": "python",
   "nbconvert_exporter": "python",
   "pygments_lexer": "ipython3",
   "version": "3.13.5"
  }
 },
 "nbformat": 4,
 "nbformat_minor": 5
}
