{
 "cells": [
  {
   "cell_type": "code",
   "execution_count": 1,
   "id": "edaa989b-097f-4def-b290-6d31c5044c50",
   "metadata": {},
   "outputs": [
    {
     "name": "stdout",
     "output_type": "stream",
     "text": [
      "\n"
     ]
    }
   ],
   "source": [
    "print()"
   ]
  },
  {
   "cell_type": "code",
   "execution_count": 2,
   "id": "f01f31c0-130e-4deb-8531-f17b51e172ad",
   "metadata": {},
   "outputs": [
    {
     "name": "stdout",
     "output_type": "stream",
     "text": [
      "Welcome to Hope AI\n"
     ]
    }
   ],
   "source": [
    "print(\"Welcome to Hope AI\")"
   ]
  },
  {
   "cell_type": "code",
   "execution_count": null,
   "id": "5f9b4687-1f5c-4efc-a370-f1dbc34b2c4f",
   "metadata": {},
   "outputs": [],
   "source": []
  }
 ],
 "metadata": {
  "kernelspec": {
   "display_name": "Python [conda env:base] *",
   "language": "python",
   "name": "conda-base-py"
  },
  "language_info": {
   "codemirror_mode": {
    "name": "ipython",
    "version": 3
   },
   "file_extension": ".py",
   "mimetype": "text/x-python",
   "name": "python",
   "nbconvert_exporter": "python",
   "pygments_lexer": "ipython3",
   "version": "3.13.5"
  }
 },
 "nbformat": 4,
 "nbformat_minor": 5
}
